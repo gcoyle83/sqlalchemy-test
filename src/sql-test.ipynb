{
 "cells": [
  {
   "cell_type": "markdown",
   "metadata": {},
   "source": [
    "## Test Example"
   ]
  },
  {
   "cell_type": "markdown",
   "metadata": {},
   "source": [
    "The file `test_one.py` uses the `sqlite3` module to create the database depicted in the figure below (repeated throughout for convenience)."
   ]
  },
  {
   "cell_type": "markdown",
   "metadata": {},
   "source": [
    "![Entity-relationship diagram](./erd.png)"
   ]
  },
  {
   "cell_type": "code",
   "execution_count": 1,
   "metadata": {},
   "outputs": [],
   "source": [
    "# run the script and import vars\n",
    "from test_one import *"
   ]
  },
  {
   "cell_type": "markdown",
   "metadata": {},
   "source": [
    "The cursor is called `cur` and the database connection is called `con`. Both are active in the notebook's kernel now.\n",
    "\n",
    "In addition to the tables and relations shown, ten patients with various conditions have been entered in the database. \n",
    "\n",
    "The `sqlite3` module allows definition of a query as a Python string, which can be executed with the cursor as follows:"
   ]
  },
  {
   "cell_type": "code",
   "execution_count": 2,
   "metadata": {},
   "outputs": [
    {
     "data": {
      "text/plain": [
       "[(1, 'John', '1982 Well St'),\n",
       " (2, 'Jill', '1983 Well St'),\n",
       " (3, 'Jasper', '1984 Well St'),\n",
       " (4, 'Janine', '1985 Well St'),\n",
       " (5, 'Kato', '10 Willow St'),\n",
       " (6, 'Leonard', '19 Marcus St'),\n",
       " (7, 'Lillian', '233 First St'),\n",
       " (8, 'Mathilda', '1985 Well St'),\n",
       " (9, 'Nancy', '1982 Well St'),\n",
       " (10, 'Ophelia', '1982 Well St')]"
      ]
     },
     "execution_count": 2,
     "metadata": {},
     "output_type": "execute_result"
    }
   ],
   "source": [
    "query = \"\"\"\n",
    "SELECT * FROM patient\n",
    "\"\"\"\n",
    "res = cur.execute(query)\n",
    "res.fetchall()"
   ]
  },
  {
   "cell_type": "markdown",
   "metadata": {},
   "source": [
    "Referencing the figure, write and execute SQL statements to achieve the following goals (note, the table names and attributes in the figure match those in the database exactly). "
   ]
  },
  {
   "cell_type": "markdown",
   "metadata": {},
   "source": [
    "![Entity-relationship diagram](./erd.png){width=75%}"
   ]
  },
  {
   "cell_type": "markdown",
   "metadata": {},
   "source": [
    "1. How many different conditions are there, and what are they?"
   ]
  },
  {
   "cell_type": "code",
   "execution_count": null,
   "metadata": {},
   "outputs": [],
   "source": [
    "query = \"\"\"\n",
    "# insert query here\n",
    "\"\"\"\n",
    "res = cur.execute(query)\n",
    "res.fetchall()"
   ]
  },
  {
   "cell_type": "markdown",
   "metadata": {},
   "source": [
    "2. How many patients suffer from 'Plague'?"
   ]
  },
  {
   "cell_type": "code",
   "execution_count": null,
   "metadata": {},
   "outputs": [],
   "source": [
    "query = \"\"\"\n",
    "# insert query here\n",
    "\"\"\"\n",
    "res = cur.execute(query)\n",
    "res.fetchall()"
   ]
  },
  {
   "cell_type": "markdown",
   "metadata": {},
   "source": [
    "3. What are their names and addresses?"
   ]
  },
  {
   "cell_type": "code",
   "execution_count": null,
   "metadata": {},
   "outputs": [],
   "source": [
    "query = \"\"\"\n",
    "# insert query here\n",
    "\"\"\"\n",
    "res = cur.execute(query)\n",
    "res.fetchall()"
   ]
  },
  {
   "cell_type": "markdown",
   "metadata": {},
   "source": [
    "4. How are they being medicated?"
   ]
  },
  {
   "cell_type": "code",
   "execution_count": null,
   "metadata": {},
   "outputs": [],
   "source": [
    "query = \"\"\"\n",
    "# insert query here\n",
    "\"\"\"\n",
    "res = cur.execute(query)\n",
    "res.fetchall()"
   ]
  },
  {
   "cell_type": "markdown",
   "metadata": {},
   "source": [
    "Remember to close the database connection:"
   ]
  },
  {
   "cell_type": "code",
   "execution_count": 7,
   "metadata": {},
   "outputs": [],
   "source": [
    "con.close()"
   ]
  },
  {
   "cell_type": "markdown",
   "metadata": {},
   "source": [
    "Data model discussion questions: \n",
    "-  Is a single patient able to have more than one \"condition\"?\n",
    "-  Is a patient able to have a \"condition\" without a \"diagnosis\"?\n",
    "-  Is the doctor-patient relationship well designed in the model provided? If not what are some of the limitations? How would you recommend correcting this?\n",
    "-  Other recommendations to improve the model?"
   ]
  },
  {
   "cell_type": "markdown",
   "metadata": {},
   "source": [
    "![Entity-relationship diagram](./erd.png){width=90%}"
   ]
  }
 ],
 "metadata": {
  "kernelspec": {
   "display_name": ".venv",
   "language": "python",
   "name": "python3"
  },
  "language_info": {
   "codemirror_mode": {
    "name": "ipython",
    "version": 3
   },
   "file_extension": ".py",
   "mimetype": "text/x-python",
   "name": "python",
   "nbconvert_exporter": "python",
   "pygments_lexer": "ipython3",
   "version": "3.12.0"
  }
 },
 "nbformat": 4,
 "nbformat_minor": 2
}
