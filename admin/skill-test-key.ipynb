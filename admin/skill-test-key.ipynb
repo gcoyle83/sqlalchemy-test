{
 "cells": [
  {
   "cell_type": "markdown",
   "metadata": {},
   "source": [
    "## Test Example"
   ]
  },
  {
   "cell_type": "markdown",
   "metadata": {},
   "source": [
    "The file `test_one.py` uses the `sqlite3` module to create the database depicted in the figure below (repeated throughout for convenience)."
   ]
  },
  {
   "cell_type": "markdown",
   "metadata": {},
   "source": [
    "![Entity-relationship diagram](../erd.png)"
   ]
  },
  {
   "cell_type": "code",
   "execution_count": 1,
   "metadata": {},
   "outputs": [],
   "source": [
    "# run the script and import vars\n",
    "from test_one import *"
   ]
  },
  {
   "cell_type": "markdown",
   "metadata": {},
   "source": [
    "The cursor is called `cur` and the database connection is called `con`. Both are active in the notebook's kernel now.\n",
    "\n",
    "In addition to the tables and relations shown, ten patients with various conditions have been entered in the database. \n",
    "\n",
    "The `sqlite3` module allows definition of a query as a Python string, which can be executed with the cursor as follows:"
   ]
  },
  {
   "cell_type": "code",
   "execution_count": 2,
   "metadata": {},
   "outputs": [
    {
     "data": {
      "text/plain": [
       "[(1, 'John', '1982 Well St'),\n",
       " (2, 'Jill', '1983 Well St'),\n",
       " (3, 'Jasper', '1984 Well St'),\n",
       " (4, 'Janine', '1985 Well St'),\n",
       " (5, 'Kato', '10 Willow St'),\n",
       " (6, 'Leonard', '19 Marcus St'),\n",
       " (7, 'Lillian', '233 First St'),\n",
       " (8, 'Mathilda', '1985 Well St'),\n",
       " (9, 'Nancy', '1982 Well St'),\n",
       " (10, 'Ophelia', '1982 Well St')]"
      ]
     },
     "execution_count": 2,
     "metadata": {},
     "output_type": "execute_result"
    }
   ],
   "source": [
    "query = \"\"\"SELECT * FROM patient\"\"\"\n",
    "res = cur.execute(query)\n",
    "res.fetchall()"
   ]
  },
  {
   "cell_type": "markdown",
   "metadata": {},
   "source": [
    "1. Write a Python function to take a SQL statement as string and return all of the results."
   ]
  },
  {
   "cell_type": "code",
   "execution_count": 3,
   "metadata": {},
   "outputs": [],
   "source": [
    "def fetch_all(q):\n",
    "    \"\"\"\n",
    "    Fetch all results from database for query `q`\n",
    "    \"\"\"\n",
    "    res = cur.execute(q)\n",
    "    return res.fetchall()"
   ]
  },
  {
   "cell_type": "markdown",
   "metadata": {},
   "source": [
    "Referencing the figure, write SQL statements to achieve the following goals (note, the table names and attributes in the figure match those in the database exactly). Execute the statements using your Python function from above."
   ]
  },
  {
   "cell_type": "markdown",
   "metadata": {},
   "source": [
    "![Entity-relationship diagram](../erd.png){width=75%}"
   ]
  },
  {
   "cell_type": "markdown",
   "metadata": {},
   "source": [
    "1. How many different conditions are there, and what are they?"
   ]
  },
  {
   "cell_type": "code",
   "execution_count": 4,
   "metadata": {},
   "outputs": [
    {
     "data": {
      "text/plain": [
       "[(1, 'Fever'),\n",
       " (2, 'Cold'),\n",
       " (3, 'Plague'),\n",
       " (4, 'Tachycardia'),\n",
       " (5, 'Fatigue'),\n",
       " (6, \"Munchausen's\")]"
      ]
     },
     "execution_count": 4,
     "metadata": {},
     "output_type": "execute_result"
    }
   ],
   "source": [
    "query = \"\"\"SELECT * FROM condition\"\"\"\n",
    "fetch_all(query)"
   ]
  },
  {
   "cell_type": "markdown",
   "metadata": {},
   "source": [
    "2. How many patients suffer from 'Plague'?"
   ]
  },
  {
   "cell_type": "code",
   "execution_count": 5,
   "metadata": {},
   "outputs": [
    {
     "data": {
      "text/plain": [
       "[(4,)]"
      ]
     },
     "execution_count": 5,
     "metadata": {},
     "output_type": "execute_result"
    }
   ],
   "source": [
    "query = \"\"\"SELECT COUNT(*) FROM diagnosis WHERE condition_id = 3\"\"\"\n",
    "fetch_all(query)"
   ]
  },
  {
   "cell_type": "markdown",
   "metadata": {},
   "source": [
    "3. Write and execute a Python function that uses your first function to compute the difference between patients with Plague and those with either Fever or Cold. Return the result as a statment like \"The difference is ...\""
   ]
  },
  {
   "cell_type": "code",
   "execution_count": 11,
   "metadata": {},
   "outputs": [],
   "source": [
    "def get_difference():\n",
    "    \"\"\"\n",
    "    Compute difference between patients with Plague and those with Fever or Cold.\n",
    "    \"\"\"\n",
    "    n_plague = fetch_all(\"\"\"SELECT COUNT(*) FROM diagnosis WHERE condition_id = 3\"\"\")[0][0]\n",
    "    n_fever_cold = fetch_all(\"\"\"SELECT COUNT(*) FROM diagnosis WHERE condition_id IN (1,2)\"\"\")[0][0]\n",
    "    return \"The difference is {}\".format(n_plague-n_fever_cold)"
   ]
  },
  {
   "cell_type": "code",
   "execution_count": 12,
   "metadata": {},
   "outputs": [
    {
     "data": {
      "text/plain": [
       "'The difference is 2'"
      ]
     },
     "execution_count": 12,
     "metadata": {},
     "output_type": "execute_result"
    }
   ],
   "source": [
    "get_difference()"
   ]
  },
  {
   "cell_type": "markdown",
   "metadata": {},
   "source": [
    "4. Develop a SQL statement to return the names and addresses of patients with Plague."
   ]
  },
  {
   "cell_type": "code",
   "execution_count": 6,
   "metadata": {},
   "outputs": [
    {
     "data": {
      "text/plain": [
       "[('Ophelia', '1982 Well St'),\n",
       " ('Nancy', '1982 Well St'),\n",
       " ('John', '1982 Well St'),\n",
       " ('Jill', '1983 Well St')]"
      ]
     },
     "execution_count": 6,
     "metadata": {},
     "output_type": "execute_result"
    }
   ],
   "source": [
    "query = \"\"\"SELECT patient_name, patient_address\n",
    "FROM (patient INNER JOIN diagnosis on diagnosis.patient_id = patient.patient_id)\n",
    "WHERE diagnosis.condition_id=3\"\"\"\n",
    "fetch_all(query)"
   ]
  },
  {
   "cell_type": "markdown",
   "metadata": {},
   "source": [
    "5. Add a column to the last result to show how they are being medicated."
   ]
  },
  {
   "cell_type": "code",
   "execution_count": 13,
   "metadata": {},
   "outputs": [
    {
     "data": {
      "text/plain": [
       "[('Ophelia', '1982 Well St', 'Doxycycline'),\n",
       " ('Nancy', '1982 Well St', 'Doxycycline'),\n",
       " ('John', '1982 Well St', 'Doxycycline'),\n",
       " ('Jill', '1983 Well St', 'Doxycycline')]"
      ]
     },
     "execution_count": 13,
     "metadata": {},
     "output_type": "execute_result"
    }
   ],
   "source": [
    "query = \"\"\"\n",
    "SELECT patient_name, patient_address, med_name FROM\n",
    "    (SELECT patient_name, patient_address, med_id\n",
    "    FROM (patient INNER JOIN diagnosis on diagnosis.patient_id = patient.patient_id)\n",
    "    WHERE diagnosis.condition_id=3) \n",
    "    AS q1\n",
    "INNER JOIN medication on medication.med_id = q1.med_id\n",
    "\"\"\"\n",
    "fetch_all(query)"
   ]
  },
  {
   "cell_type": "markdown",
   "metadata": {},
   "source": [
    "Remember to close the database connection:"
   ]
  },
  {
   "cell_type": "code",
   "execution_count": 7,
   "metadata": {},
   "outputs": [],
   "source": [
    "con.close()"
   ]
  },
  {
   "cell_type": "markdown",
   "metadata": {},
   "source": [
    "Data model discussion questions: \n",
    "-  Is a single patient able to have more than one \"condition\"?\n",
    "-  Is a patient able to have a \"condition\" without a \"diagnosis\"?\n",
    "-  Is the doctor-patient relationship well designed in the model provided? If not what are some of the limitations? How would you recommend correcting this?\n",
    "-  Other recommendations to improve the model?"
   ]
  },
  {
   "cell_type": "markdown",
   "metadata": {},
   "source": [
    "![Entity-relationship diagram](../erd.png){width=90%}"
   ]
  },
  {
   "cell_type": "markdown",
   "metadata": {},
   "source": [
    "Acceptable Answers: \n",
    "\n",
    "-  Yes\n",
    "-  No  \n",
    "-  No, it's not, because a doctor is directly associated with a patient. A potential solution would be to include a separate doctor table and a bridge entity to enable a more realistic situation in which each patient has many doctors and each doctor has many patients. \n",
    "-  Open ended, but for example, the diagnosis table could be improved by adding the doctor_id to track which doctor made each diagnosis."
   ]
  }
 ],
 "metadata": {
  "kernelspec": {
   "display_name": ".venv",
   "language": "python",
   "name": "python3"
  },
  "language_info": {
   "codemirror_mode": {
    "name": "ipython",
    "version": 3
   },
   "file_extension": ".py",
   "mimetype": "text/x-python",
   "name": "python",
   "nbconvert_exporter": "python",
   "pygments_lexer": "ipython3",
   "version": "3.10.8"
  }
 },
 "nbformat": 4,
 "nbformat_minor": 2
}
